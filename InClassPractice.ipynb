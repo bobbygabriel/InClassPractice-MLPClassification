{
  "nbformat": 4,
  "nbformat_minor": 0,
  "metadata": {
    "colab": {
      "provenance": []
    },
    "kernelspec": {
      "name": "python3",
      "display_name": "Python 3"
    },
    "language_info": {
      "name": "python"
    }
  },
  "cells": [
    {
      "cell_type": "code",
      "execution_count": 73,
      "metadata": {
        "id": "mNbVO2h3jI1u"
      },
      "outputs": [],
      "source": [
        "import numpy as np\n",
        "import pandas as pd\n",
        "import matplotlib.pyplot as plt\n",
        "import seaborn as sns"
      ]
    },
    {
      "cell_type": "code",
      "source": [
        "data = pd.read_csv('/content/drive/MyDrive/Colab Notebooks/Chapter10ANN/data.csv')"
      ],
      "metadata": {
        "id": "ytOA685tjWOR"
      },
      "execution_count": 74,
      "outputs": []
    },
    {
      "cell_type": "code",
      "source": [
        "data.head()"
      ],
      "metadata": {
        "colab": {
          "base_uri": "https://localhost:8080/",
          "height": 314
        },
        "id": "RvFstDCrjf0d",
        "outputId": "8f9af3fd-612b-47b1-a229-cb3152293d62"
      },
      "execution_count": 75,
      "outputs": [
        {
          "output_type": "execute_result",
          "data": {
            "text/plain": [
              "  diagnosis  radius_mean  texture_mean  perimeter_mean  area_mean  \\\n",
              "0         M        17.99         10.38          122.80     1001.0   \n",
              "1         M        20.57         17.77          132.90     1326.0   \n",
              "2         M        19.69         21.25          130.00     1203.0   \n",
              "3         M        11.42         20.38           77.58      386.1   \n",
              "4         M        20.29         14.34          135.10     1297.0   \n",
              "\n",
              "   smoothness_mean  compactness_mean  concavity_mean  concave points_mean  \\\n",
              "0          0.11840           0.27760          0.3001              0.14710   \n",
              "1          0.08474           0.07864          0.0869              0.07017   \n",
              "2          0.10960           0.15990          0.1974              0.12790   \n",
              "3          0.14250           0.28390          0.2414              0.10520   \n",
              "4          0.10030           0.13280          0.1980              0.10430   \n",
              "\n",
              "   symmetry_mean  ...  radius_worst  texture_worst  perimeter_worst  \\\n",
              "0         0.2419  ...         25.38          17.33           184.60   \n",
              "1         0.1812  ...         24.99          23.41           158.80   \n",
              "2         0.2069  ...         23.57          25.53           152.50   \n",
              "3         0.2597  ...         14.91          26.50            98.87   \n",
              "4         0.1809  ...         22.54          16.67           152.20   \n",
              "\n",
              "   area_worst  smoothness_worst  compactness_worst  concavity_worst  \\\n",
              "0      2019.0            0.1622             0.6656           0.7119   \n",
              "1      1956.0            0.1238             0.1866           0.2416   \n",
              "2      1709.0            0.1444             0.4245           0.4504   \n",
              "3       567.7            0.2098             0.8663           0.6869   \n",
              "4      1575.0            0.1374             0.2050           0.4000   \n",
              "\n",
              "   concave points_worst  symmetry_worst  fractal_dimension_worst  \n",
              "0                0.2654          0.4601                  0.11890  \n",
              "1                0.1860          0.2750                  0.08902  \n",
              "2                0.2430          0.3613                  0.08758  \n",
              "3                0.2575          0.6638                  0.17300  \n",
              "4                0.1625          0.2364                  0.07678  \n",
              "\n",
              "[5 rows x 31 columns]"
            ],
            "text/html": [
              "\n",
              "  <div id=\"df-546b9d5c-7a4d-47fc-822e-a8d91ea4f7fa\">\n",
              "    <div class=\"colab-df-container\">\n",
              "      <div>\n",
              "<style scoped>\n",
              "    .dataframe tbody tr th:only-of-type {\n",
              "        vertical-align: middle;\n",
              "    }\n",
              "\n",
              "    .dataframe tbody tr th {\n",
              "        vertical-align: top;\n",
              "    }\n",
              "\n",
              "    .dataframe thead th {\n",
              "        text-align: right;\n",
              "    }\n",
              "</style>\n",
              "<table border=\"1\" class=\"dataframe\">\n",
              "  <thead>\n",
              "    <tr style=\"text-align: right;\">\n",
              "      <th></th>\n",
              "      <th>diagnosis</th>\n",
              "      <th>radius_mean</th>\n",
              "      <th>texture_mean</th>\n",
              "      <th>perimeter_mean</th>\n",
              "      <th>area_mean</th>\n",
              "      <th>smoothness_mean</th>\n",
              "      <th>compactness_mean</th>\n",
              "      <th>concavity_mean</th>\n",
              "      <th>concave points_mean</th>\n",
              "      <th>symmetry_mean</th>\n",
              "      <th>...</th>\n",
              "      <th>radius_worst</th>\n",
              "      <th>texture_worst</th>\n",
              "      <th>perimeter_worst</th>\n",
              "      <th>area_worst</th>\n",
              "      <th>smoothness_worst</th>\n",
              "      <th>compactness_worst</th>\n",
              "      <th>concavity_worst</th>\n",
              "      <th>concave points_worst</th>\n",
              "      <th>symmetry_worst</th>\n",
              "      <th>fractal_dimension_worst</th>\n",
              "    </tr>\n",
              "  </thead>\n",
              "  <tbody>\n",
              "    <tr>\n",
              "      <th>0</th>\n",
              "      <td>M</td>\n",
              "      <td>17.99</td>\n",
              "      <td>10.38</td>\n",
              "      <td>122.80</td>\n",
              "      <td>1001.0</td>\n",
              "      <td>0.11840</td>\n",
              "      <td>0.27760</td>\n",
              "      <td>0.3001</td>\n",
              "      <td>0.14710</td>\n",
              "      <td>0.2419</td>\n",
              "      <td>...</td>\n",
              "      <td>25.38</td>\n",
              "      <td>17.33</td>\n",
              "      <td>184.60</td>\n",
              "      <td>2019.0</td>\n",
              "      <td>0.1622</td>\n",
              "      <td>0.6656</td>\n",
              "      <td>0.7119</td>\n",
              "      <td>0.2654</td>\n",
              "      <td>0.4601</td>\n",
              "      <td>0.11890</td>\n",
              "    </tr>\n",
              "    <tr>\n",
              "      <th>1</th>\n",
              "      <td>M</td>\n",
              "      <td>20.57</td>\n",
              "      <td>17.77</td>\n",
              "      <td>132.90</td>\n",
              "      <td>1326.0</td>\n",
              "      <td>0.08474</td>\n",
              "      <td>0.07864</td>\n",
              "      <td>0.0869</td>\n",
              "      <td>0.07017</td>\n",
              "      <td>0.1812</td>\n",
              "      <td>...</td>\n",
              "      <td>24.99</td>\n",
              "      <td>23.41</td>\n",
              "      <td>158.80</td>\n",
              "      <td>1956.0</td>\n",
              "      <td>0.1238</td>\n",
              "      <td>0.1866</td>\n",
              "      <td>0.2416</td>\n",
              "      <td>0.1860</td>\n",
              "      <td>0.2750</td>\n",
              "      <td>0.08902</td>\n",
              "    </tr>\n",
              "    <tr>\n",
              "      <th>2</th>\n",
              "      <td>M</td>\n",
              "      <td>19.69</td>\n",
              "      <td>21.25</td>\n",
              "      <td>130.00</td>\n",
              "      <td>1203.0</td>\n",
              "      <td>0.10960</td>\n",
              "      <td>0.15990</td>\n",
              "      <td>0.1974</td>\n",
              "      <td>0.12790</td>\n",
              "      <td>0.2069</td>\n",
              "      <td>...</td>\n",
              "      <td>23.57</td>\n",
              "      <td>25.53</td>\n",
              "      <td>152.50</td>\n",
              "      <td>1709.0</td>\n",
              "      <td>0.1444</td>\n",
              "      <td>0.4245</td>\n",
              "      <td>0.4504</td>\n",
              "      <td>0.2430</td>\n",
              "      <td>0.3613</td>\n",
              "      <td>0.08758</td>\n",
              "    </tr>\n",
              "    <tr>\n",
              "      <th>3</th>\n",
              "      <td>M</td>\n",
              "      <td>11.42</td>\n",
              "      <td>20.38</td>\n",
              "      <td>77.58</td>\n",
              "      <td>386.1</td>\n",
              "      <td>0.14250</td>\n",
              "      <td>0.28390</td>\n",
              "      <td>0.2414</td>\n",
              "      <td>0.10520</td>\n",
              "      <td>0.2597</td>\n",
              "      <td>...</td>\n",
              "      <td>14.91</td>\n",
              "      <td>26.50</td>\n",
              "      <td>98.87</td>\n",
              "      <td>567.7</td>\n",
              "      <td>0.2098</td>\n",
              "      <td>0.8663</td>\n",
              "      <td>0.6869</td>\n",
              "      <td>0.2575</td>\n",
              "      <td>0.6638</td>\n",
              "      <td>0.17300</td>\n",
              "    </tr>\n",
              "    <tr>\n",
              "      <th>4</th>\n",
              "      <td>M</td>\n",
              "      <td>20.29</td>\n",
              "      <td>14.34</td>\n",
              "      <td>135.10</td>\n",
              "      <td>1297.0</td>\n",
              "      <td>0.10030</td>\n",
              "      <td>0.13280</td>\n",
              "      <td>0.1980</td>\n",
              "      <td>0.10430</td>\n",
              "      <td>0.1809</td>\n",
              "      <td>...</td>\n",
              "      <td>22.54</td>\n",
              "      <td>16.67</td>\n",
              "      <td>152.20</td>\n",
              "      <td>1575.0</td>\n",
              "      <td>0.1374</td>\n",
              "      <td>0.2050</td>\n",
              "      <td>0.4000</td>\n",
              "      <td>0.1625</td>\n",
              "      <td>0.2364</td>\n",
              "      <td>0.07678</td>\n",
              "    </tr>\n",
              "  </tbody>\n",
              "</table>\n",
              "<p>5 rows × 31 columns</p>\n",
              "</div>\n",
              "      <button class=\"colab-df-convert\" onclick=\"convertToInteractive('df-546b9d5c-7a4d-47fc-822e-a8d91ea4f7fa')\"\n",
              "              title=\"Convert this dataframe to an interactive table.\"\n",
              "              style=\"display:none;\">\n",
              "        \n",
              "  <svg xmlns=\"http://www.w3.org/2000/svg\" height=\"24px\"viewBox=\"0 0 24 24\"\n",
              "       width=\"24px\">\n",
              "    <path d=\"M0 0h24v24H0V0z\" fill=\"none\"/>\n",
              "    <path d=\"M18.56 5.44l.94 2.06.94-2.06 2.06-.94-2.06-.94-.94-2.06-.94 2.06-2.06.94zm-11 1L8.5 8.5l.94-2.06 2.06-.94-2.06-.94L8.5 2.5l-.94 2.06-2.06.94zm10 10l.94 2.06.94-2.06 2.06-.94-2.06-.94-.94-2.06-.94 2.06-2.06.94z\"/><path d=\"M17.41 7.96l-1.37-1.37c-.4-.4-.92-.59-1.43-.59-.52 0-1.04.2-1.43.59L10.3 9.45l-7.72 7.72c-.78.78-.78 2.05 0 2.83L4 21.41c.39.39.9.59 1.41.59.51 0 1.02-.2 1.41-.59l7.78-7.78 2.81-2.81c.8-.78.8-2.07 0-2.86zM5.41 20L4 18.59l7.72-7.72 1.47 1.35L5.41 20z\"/>\n",
              "  </svg>\n",
              "      </button>\n",
              "      \n",
              "  <style>\n",
              "    .colab-df-container {\n",
              "      display:flex;\n",
              "      flex-wrap:wrap;\n",
              "      gap: 12px;\n",
              "    }\n",
              "\n",
              "    .colab-df-convert {\n",
              "      background-color: #E8F0FE;\n",
              "      border: none;\n",
              "      border-radius: 50%;\n",
              "      cursor: pointer;\n",
              "      display: none;\n",
              "      fill: #1967D2;\n",
              "      height: 32px;\n",
              "      padding: 0 0 0 0;\n",
              "      width: 32px;\n",
              "    }\n",
              "\n",
              "    .colab-df-convert:hover {\n",
              "      background-color: #E2EBFA;\n",
              "      box-shadow: 0px 1px 2px rgba(60, 64, 67, 0.3), 0px 1px 3px 1px rgba(60, 64, 67, 0.15);\n",
              "      fill: #174EA6;\n",
              "    }\n",
              "\n",
              "    [theme=dark] .colab-df-convert {\n",
              "      background-color: #3B4455;\n",
              "      fill: #D2E3FC;\n",
              "    }\n",
              "\n",
              "    [theme=dark] .colab-df-convert:hover {\n",
              "      background-color: #434B5C;\n",
              "      box-shadow: 0px 1px 3px 1px rgba(0, 0, 0, 0.15);\n",
              "      filter: drop-shadow(0px 1px 2px rgba(0, 0, 0, 0.3));\n",
              "      fill: #FFFFFF;\n",
              "    }\n",
              "  </style>\n",
              "\n",
              "      <script>\n",
              "        const buttonEl =\n",
              "          document.querySelector('#df-546b9d5c-7a4d-47fc-822e-a8d91ea4f7fa button.colab-df-convert');\n",
              "        buttonEl.style.display =\n",
              "          google.colab.kernel.accessAllowed ? 'block' : 'none';\n",
              "\n",
              "        async function convertToInteractive(key) {\n",
              "          const element = document.querySelector('#df-546b9d5c-7a4d-47fc-822e-a8d91ea4f7fa');\n",
              "          const dataTable =\n",
              "            await google.colab.kernel.invokeFunction('convertToInteractive',\n",
              "                                                     [key], {});\n",
              "          if (!dataTable) return;\n",
              "\n",
              "          const docLinkHtml = 'Like what you see? Visit the ' +\n",
              "            '<a target=\"_blank\" href=https://colab.research.google.com/notebooks/data_table.ipynb>data table notebook</a>'\n",
              "            + ' to learn more about interactive tables.';\n",
              "          element.innerHTML = '';\n",
              "          dataTable['output_type'] = 'display_data';\n",
              "          await google.colab.output.renderOutput(dataTable, element);\n",
              "          const docLink = document.createElement('div');\n",
              "          docLink.innerHTML = docLinkHtml;\n",
              "          element.appendChild(docLink);\n",
              "        }\n",
              "      </script>\n",
              "    </div>\n",
              "  </div>\n",
              "  "
            ]
          },
          "metadata": {},
          "execution_count": 75
        }
      ]
    },
    {
      "cell_type": "code",
      "source": [
        "data.info()"
      ],
      "metadata": {
        "colab": {
          "base_uri": "https://localhost:8080/"
        },
        "id": "QjnRZZCijj58",
        "outputId": "b230a623-b695-4808-c3da-cb39948b220c"
      },
      "execution_count": 76,
      "outputs": [
        {
          "output_type": "stream",
          "name": "stdout",
          "text": [
            "<class 'pandas.core.frame.DataFrame'>\n",
            "RangeIndex: 564 entries, 0 to 563\n",
            "Data columns (total 31 columns):\n",
            " #   Column                   Non-Null Count  Dtype  \n",
            "---  ------                   --------------  -----  \n",
            " 0   diagnosis                564 non-null    object \n",
            " 1   radius_mean              564 non-null    float64\n",
            " 2   texture_mean             564 non-null    float64\n",
            " 3   perimeter_mean           564 non-null    float64\n",
            " 4   area_mean                564 non-null    float64\n",
            " 5   smoothness_mean          564 non-null    float64\n",
            " 6   compactness_mean         564 non-null    float64\n",
            " 7   concavity_mean           564 non-null    float64\n",
            " 8   concave points_mean      564 non-null    float64\n",
            " 9   symmetry_mean            564 non-null    float64\n",
            " 10  fractal_dimension_mean   564 non-null    float64\n",
            " 11  radius_se                564 non-null    float64\n",
            " 12  texture_se               564 non-null    float64\n",
            " 13  perimeter_se             564 non-null    float64\n",
            " 14  area_se                  564 non-null    float64\n",
            " 15  smoothness_se            564 non-null    float64\n",
            " 16  compactness_se           564 non-null    float64\n",
            " 17  concavity_se             564 non-null    float64\n",
            " 18  concave points_se        564 non-null    float64\n",
            " 19  symmetry_se              564 non-null    float64\n",
            " 20  fractal_dimension_se     564 non-null    float64\n",
            " 21  radius_worst             564 non-null    float64\n",
            " 22  texture_worst            564 non-null    float64\n",
            " 23  perimeter_worst          564 non-null    float64\n",
            " 24  area_worst               564 non-null    float64\n",
            " 25  smoothness_worst         564 non-null    float64\n",
            " 26  compactness_worst        564 non-null    float64\n",
            " 27  concavity_worst          564 non-null    float64\n",
            " 28  concave points_worst     564 non-null    float64\n",
            " 29  symmetry_worst           564 non-null    float64\n",
            " 30  fractal_dimension_worst  564 non-null    float64\n",
            "dtypes: float64(30), object(1)\n",
            "memory usage: 136.7+ KB\n"
          ]
        }
      ]
    },
    {
      "cell_type": "code",
      "source": [
        "x = data.drop('diagnosis', axis=1)\n",
        "y = data[['diagnosis']]"
      ],
      "metadata": {
        "id": "zOJ9oeFKjsFi"
      },
      "execution_count": 77,
      "outputs": []
    },
    {
      "cell_type": "code",
      "source": [
        "from sklearn.preprocessing import LabelEncoder\n",
        "LE = LabelEncoder()\n",
        "y = LE.fit_transform(y)"
      ],
      "metadata": {
        "colab": {
          "base_uri": "https://localhost:8080/"
        },
        "id": "QiqH2l39BP5C",
        "outputId": "ac4ff0aa-045b-4fb3-b25f-accac488f5e5"
      },
      "execution_count": 78,
      "outputs": [
        {
          "output_type": "stream",
          "name": "stderr",
          "text": [
            "/usr/local/lib/python3.7/dist-packages/sklearn/preprocessing/_label.py:115: DataConversionWarning: A column-vector y was passed when a 1d array was expected. Please change the shape of y to (n_samples, ), for example using ravel().\n",
            "  y = column_or_1d(y, warn=True)\n"
          ]
        }
      ]
    },
    {
      "cell_type": "markdown",
      "source": [
        "## Splitting the data"
      ],
      "metadata": {
        "id": "MDUSnlpbtQXU"
      }
    },
    {
      "cell_type": "code",
      "source": [
        "from sklearn.model_selection import train_test_split\n",
        "x_train, x_test, y_train, y_test = train_test_split(x, y, test_size=0.3, random_state=42)"
      ],
      "metadata": {
        "id": "YSeAEkfWs84T"
      },
      "execution_count": 79,
      "outputs": []
    },
    {
      "cell_type": "markdown",
      "source": [
        "## Scaling the data"
      ],
      "metadata": {
        "id": "fi2gcAo6Fbx8"
      }
    },
    {
      "cell_type": "code",
      "source": [
        "from sklearn.preprocessing import StandardScaler\n",
        "sc_x=StandardScaler()\n",
        "x_train=sc_x.fit_transform(x_train)\n",
        "x_test=sc_x.transform(x_test)"
      ],
      "metadata": {
        "id": "j_MrvFA9FbVc"
      },
      "execution_count": 80,
      "outputs": []
    },
    {
      "cell_type": "markdown",
      "source": [
        "## Build ANN Model"
      ],
      "metadata": {
        "id": "lSbizu5otk4r"
      }
    },
    {
      "cell_type": "code",
      "source": [
        "from tensorflow.keras import Sequential\n",
        "from tensorflow.keras.layers import Dense"
      ],
      "metadata": {
        "id": "SriC9m6UujKo"
      },
      "execution_count": 81,
      "outputs": []
    },
    {
      "cell_type": "code",
      "source": [
        "n_features = x_train.shape[1]\n",
        "print(n_features)"
      ],
      "metadata": {
        "colab": {
          "base_uri": "https://localhost:8080/"
        },
        "id": "CFo3dNvQwI_o",
        "outputId": "875e271e-fb70-46e8-968b-eb380b4385d3"
      },
      "execution_count": 82,
      "outputs": [
        {
          "output_type": "stream",
          "name": "stdout",
          "text": [
            "30\n"
          ]
        }
      ]
    },
    {
      "cell_type": "code",
      "source": [
        "model = Sequential()\n",
        "model.add(Dense(10, activation='relu', input_shape=(n_features,)))"
      ],
      "metadata": {
        "id": "clUFCPAywb7K"
      },
      "execution_count": 83,
      "outputs": []
    },
    {
      "cell_type": "code",
      "source": [
        "model.add(Dense(8, activation='relu'))\n",
        "model.add(Dense(1, activation='sigmoid'))"
      ],
      "metadata": {
        "id": "eb7KVNK5w8EL"
      },
      "execution_count": 84,
      "outputs": []
    },
    {
      "cell_type": "markdown",
      "source": [
        "## Compile the model"
      ],
      "metadata": {
        "id": "rO_bkmzgxW1x"
      }
    },
    {
      "cell_type": "code",
      "source": [
        "model.compile(optimizer='adam', loss='binary_crossentropy', metrics=['accuracy'])"
      ],
      "metadata": {
        "id": "U9F9PR0RxVOF"
      },
      "execution_count": 85,
      "outputs": []
    },
    {
      "cell_type": "markdown",
      "source": [
        "## Fit the model"
      ],
      "metadata": {
        "id": "Rwxux1Kox0TR"
      }
    },
    {
      "cell_type": "code",
      "source": [
        "history=model.fit(x_train, y_train, epochs=150, validation_data=(x_test, y_test), batch_size=32, verbose=1)"
      ],
      "metadata": {
        "colab": {
          "base_uri": "https://localhost:8080/"
        },
        "id": "ND2WlzlxxwTo",
        "outputId": "578d7783-1487-4bf2-f25a-6898e78bd4a4"
      },
      "execution_count": 86,
      "outputs": [
        {
          "output_type": "stream",
          "name": "stdout",
          "text": [
            "Epoch 1/150\n",
            "13/13 [==============================] - 1s 17ms/step - loss: 0.6767 - accuracy: 0.6777 - val_loss: 0.6102 - val_accuracy: 0.7588\n",
            "Epoch 2/150\n",
            "13/13 [==============================] - 0s 6ms/step - loss: 0.5945 - accuracy: 0.7919 - val_loss: 0.5404 - val_accuracy: 0.8471\n",
            "Epoch 3/150\n",
            "13/13 [==============================] - 0s 5ms/step - loss: 0.5206 - accuracy: 0.8503 - val_loss: 0.4740 - val_accuracy: 0.9000\n",
            "Epoch 4/150\n",
            "13/13 [==============================] - 0s 5ms/step - loss: 0.4551 - accuracy: 0.8706 - val_loss: 0.4157 - val_accuracy: 0.9118\n",
            "Epoch 5/150\n",
            "13/13 [==============================] - 0s 5ms/step - loss: 0.3984 - accuracy: 0.8858 - val_loss: 0.3670 - val_accuracy: 0.9294\n",
            "Epoch 6/150\n",
            "13/13 [==============================] - 0s 5ms/step - loss: 0.3517 - accuracy: 0.9036 - val_loss: 0.3274 - val_accuracy: 0.9353\n",
            "Epoch 7/150\n",
            "13/13 [==============================] - 0s 6ms/step - loss: 0.3144 - accuracy: 0.9061 - val_loss: 0.2950 - val_accuracy: 0.9412\n",
            "Epoch 8/150\n",
            "13/13 [==============================] - 0s 5ms/step - loss: 0.2832 - accuracy: 0.9086 - val_loss: 0.2697 - val_accuracy: 0.9412\n",
            "Epoch 9/150\n",
            "13/13 [==============================] - 0s 5ms/step - loss: 0.2584 - accuracy: 0.9188 - val_loss: 0.2486 - val_accuracy: 0.9353\n",
            "Epoch 10/150\n",
            "13/13 [==============================] - 0s 4ms/step - loss: 0.2371 - accuracy: 0.9340 - val_loss: 0.2297 - val_accuracy: 0.9412\n",
            "Epoch 11/150\n",
            "13/13 [==============================] - 0s 5ms/step - loss: 0.2186 - accuracy: 0.9391 - val_loss: 0.2125 - val_accuracy: 0.9412\n",
            "Epoch 12/150\n",
            "13/13 [==============================] - 0s 6ms/step - loss: 0.2031 - accuracy: 0.9467 - val_loss: 0.1969 - val_accuracy: 0.9412\n",
            "Epoch 13/150\n",
            "13/13 [==============================] - 0s 5ms/step - loss: 0.1888 - accuracy: 0.9492 - val_loss: 0.1844 - val_accuracy: 0.9412\n",
            "Epoch 14/150\n",
            "13/13 [==============================] - 0s 5ms/step - loss: 0.1758 - accuracy: 0.9543 - val_loss: 0.1721 - val_accuracy: 0.9412\n",
            "Epoch 15/150\n",
            "13/13 [==============================] - 0s 4ms/step - loss: 0.1647 - accuracy: 0.9543 - val_loss: 0.1607 - val_accuracy: 0.9529\n",
            "Epoch 16/150\n",
            "13/13 [==============================] - 0s 6ms/step - loss: 0.1546 - accuracy: 0.9543 - val_loss: 0.1515 - val_accuracy: 0.9529\n",
            "Epoch 17/150\n",
            "13/13 [==============================] - 0s 4ms/step - loss: 0.1446 - accuracy: 0.9619 - val_loss: 0.1431 - val_accuracy: 0.9529\n",
            "Epoch 18/150\n",
            "13/13 [==============================] - 0s 6ms/step - loss: 0.1366 - accuracy: 0.9645 - val_loss: 0.1347 - val_accuracy: 0.9529\n",
            "Epoch 19/150\n",
            "13/13 [==============================] - 0s 4ms/step - loss: 0.1285 - accuracy: 0.9670 - val_loss: 0.1279 - val_accuracy: 0.9529\n",
            "Epoch 20/150\n",
            "13/13 [==============================] - 0s 6ms/step - loss: 0.1216 - accuracy: 0.9695 - val_loss: 0.1221 - val_accuracy: 0.9529\n",
            "Epoch 21/150\n",
            "13/13 [==============================] - 0s 5ms/step - loss: 0.1156 - accuracy: 0.9721 - val_loss: 0.1166 - val_accuracy: 0.9647\n",
            "Epoch 22/150\n",
            "13/13 [==============================] - 0s 4ms/step - loss: 0.1100 - accuracy: 0.9721 - val_loss: 0.1115 - val_accuracy: 0.9647\n",
            "Epoch 23/150\n",
            "13/13 [==============================] - 0s 4ms/step - loss: 0.1048 - accuracy: 0.9746 - val_loss: 0.1075 - val_accuracy: 0.9647\n",
            "Epoch 24/150\n",
            "13/13 [==============================] - 0s 4ms/step - loss: 0.1003 - accuracy: 0.9746 - val_loss: 0.1033 - val_accuracy: 0.9706\n",
            "Epoch 25/150\n",
            "13/13 [==============================] - 0s 5ms/step - loss: 0.0960 - accuracy: 0.9772 - val_loss: 0.1004 - val_accuracy: 0.9706\n",
            "Epoch 26/150\n",
            "13/13 [==============================] - 0s 6ms/step - loss: 0.0924 - accuracy: 0.9772 - val_loss: 0.0975 - val_accuracy: 0.9706\n",
            "Epoch 27/150\n",
            "13/13 [==============================] - 0s 4ms/step - loss: 0.0890 - accuracy: 0.9797 - val_loss: 0.0951 - val_accuracy: 0.9706\n",
            "Epoch 28/150\n",
            "13/13 [==============================] - 0s 6ms/step - loss: 0.0858 - accuracy: 0.9797 - val_loss: 0.0930 - val_accuracy: 0.9706\n",
            "Epoch 29/150\n",
            "13/13 [==============================] - 0s 4ms/step - loss: 0.0830 - accuracy: 0.9772 - val_loss: 0.0906 - val_accuracy: 0.9706\n",
            "Epoch 30/150\n",
            "13/13 [==============================] - 0s 4ms/step - loss: 0.0799 - accuracy: 0.9772 - val_loss: 0.0893 - val_accuracy: 0.9647\n",
            "Epoch 31/150\n",
            "13/13 [==============================] - 0s 4ms/step - loss: 0.0775 - accuracy: 0.9772 - val_loss: 0.0879 - val_accuracy: 0.9647\n",
            "Epoch 32/150\n",
            "13/13 [==============================] - 0s 5ms/step - loss: 0.0755 - accuracy: 0.9772 - val_loss: 0.0865 - val_accuracy: 0.9647\n",
            "Epoch 33/150\n",
            "13/13 [==============================] - 0s 5ms/step - loss: 0.0731 - accuracy: 0.9772 - val_loss: 0.0852 - val_accuracy: 0.9588\n",
            "Epoch 34/150\n",
            "13/13 [==============================] - 0s 5ms/step - loss: 0.0712 - accuracy: 0.9772 - val_loss: 0.0840 - val_accuracy: 0.9588\n",
            "Epoch 35/150\n",
            "13/13 [==============================] - 0s 6ms/step - loss: 0.0694 - accuracy: 0.9772 - val_loss: 0.0827 - val_accuracy: 0.9588\n",
            "Epoch 36/150\n",
            "13/13 [==============================] - 0s 5ms/step - loss: 0.0674 - accuracy: 0.9772 - val_loss: 0.0814 - val_accuracy: 0.9588\n",
            "Epoch 37/150\n",
            "13/13 [==============================] - 0s 4ms/step - loss: 0.0659 - accuracy: 0.9772 - val_loss: 0.0802 - val_accuracy: 0.9647\n",
            "Epoch 38/150\n",
            "13/13 [==============================] - 0s 5ms/step - loss: 0.0643 - accuracy: 0.9772 - val_loss: 0.0795 - val_accuracy: 0.9647\n",
            "Epoch 39/150\n",
            "13/13 [==============================] - 0s 4ms/step - loss: 0.0626 - accuracy: 0.9797 - val_loss: 0.0789 - val_accuracy: 0.9647\n",
            "Epoch 40/150\n",
            "13/13 [==============================] - 0s 4ms/step - loss: 0.0612 - accuracy: 0.9797 - val_loss: 0.0786 - val_accuracy: 0.9647\n",
            "Epoch 41/150\n",
            "13/13 [==============================] - 0s 4ms/step - loss: 0.0599 - accuracy: 0.9797 - val_loss: 0.0782 - val_accuracy: 0.9706\n",
            "Epoch 42/150\n",
            "13/13 [==============================] - 0s 4ms/step - loss: 0.0585 - accuracy: 0.9848 - val_loss: 0.0777 - val_accuracy: 0.9647\n",
            "Epoch 43/150\n",
            "13/13 [==============================] - 0s 5ms/step - loss: 0.0572 - accuracy: 0.9848 - val_loss: 0.0782 - val_accuracy: 0.9647\n",
            "Epoch 44/150\n",
            "13/13 [==============================] - 0s 4ms/step - loss: 0.0562 - accuracy: 0.9873 - val_loss: 0.0780 - val_accuracy: 0.9647\n",
            "Epoch 45/150\n",
            "13/13 [==============================] - 0s 9ms/step - loss: 0.0549 - accuracy: 0.9873 - val_loss: 0.0782 - val_accuracy: 0.9647\n",
            "Epoch 46/150\n",
            "13/13 [==============================] - 0s 4ms/step - loss: 0.0536 - accuracy: 0.9873 - val_loss: 0.0783 - val_accuracy: 0.9647\n",
            "Epoch 47/150\n",
            "13/13 [==============================] - 0s 8ms/step - loss: 0.0526 - accuracy: 0.9873 - val_loss: 0.0777 - val_accuracy: 0.9647\n",
            "Epoch 48/150\n",
            "13/13 [==============================] - 0s 5ms/step - loss: 0.0514 - accuracy: 0.9873 - val_loss: 0.0779 - val_accuracy: 0.9647\n",
            "Epoch 49/150\n",
            "13/13 [==============================] - 0s 4ms/step - loss: 0.0503 - accuracy: 0.9873 - val_loss: 0.0784 - val_accuracy: 0.9588\n",
            "Epoch 50/150\n",
            "13/13 [==============================] - 0s 5ms/step - loss: 0.0494 - accuracy: 0.9873 - val_loss: 0.0782 - val_accuracy: 0.9588\n",
            "Epoch 51/150\n",
            "13/13 [==============================] - 0s 4ms/step - loss: 0.0483 - accuracy: 0.9873 - val_loss: 0.0786 - val_accuracy: 0.9588\n",
            "Epoch 52/150\n",
            "13/13 [==============================] - 0s 5ms/step - loss: 0.0474 - accuracy: 0.9873 - val_loss: 0.0798 - val_accuracy: 0.9588\n",
            "Epoch 53/150\n",
            "13/13 [==============================] - 0s 6ms/step - loss: 0.0463 - accuracy: 0.9873 - val_loss: 0.0803 - val_accuracy: 0.9529\n",
            "Epoch 54/150\n",
            "13/13 [==============================] - 0s 4ms/step - loss: 0.0453 - accuracy: 0.9873 - val_loss: 0.0803 - val_accuracy: 0.9529\n",
            "Epoch 55/150\n",
            "13/13 [==============================] - 0s 5ms/step - loss: 0.0445 - accuracy: 0.9873 - val_loss: 0.0806 - val_accuracy: 0.9529\n",
            "Epoch 56/150\n",
            "13/13 [==============================] - 0s 4ms/step - loss: 0.0433 - accuracy: 0.9898 - val_loss: 0.0804 - val_accuracy: 0.9529\n",
            "Epoch 57/150\n",
            "13/13 [==============================] - 0s 4ms/step - loss: 0.0426 - accuracy: 0.9898 - val_loss: 0.0813 - val_accuracy: 0.9529\n",
            "Epoch 58/150\n",
            "13/13 [==============================] - 0s 5ms/step - loss: 0.0417 - accuracy: 0.9898 - val_loss: 0.0811 - val_accuracy: 0.9529\n",
            "Epoch 59/150\n",
            "13/13 [==============================] - 0s 4ms/step - loss: 0.0410 - accuracy: 0.9873 - val_loss: 0.0826 - val_accuracy: 0.9529\n",
            "Epoch 60/150\n",
            "13/13 [==============================] - 0s 4ms/step - loss: 0.0402 - accuracy: 0.9924 - val_loss: 0.0817 - val_accuracy: 0.9529\n",
            "Epoch 61/150\n",
            "13/13 [==============================] - 0s 5ms/step - loss: 0.0393 - accuracy: 0.9924 - val_loss: 0.0834 - val_accuracy: 0.9529\n",
            "Epoch 62/150\n",
            "13/13 [==============================] - 0s 5ms/step - loss: 0.0383 - accuracy: 0.9898 - val_loss: 0.0824 - val_accuracy: 0.9529\n",
            "Epoch 63/150\n",
            "13/13 [==============================] - 0s 4ms/step - loss: 0.0378 - accuracy: 0.9924 - val_loss: 0.0816 - val_accuracy: 0.9529\n",
            "Epoch 64/150\n",
            "13/13 [==============================] - 0s 6ms/step - loss: 0.0367 - accuracy: 0.9898 - val_loss: 0.0859 - val_accuracy: 0.9529\n",
            "Epoch 65/150\n",
            "13/13 [==============================] - 0s 5ms/step - loss: 0.0362 - accuracy: 0.9898 - val_loss: 0.0859 - val_accuracy: 0.9529\n",
            "Epoch 66/150\n",
            "13/13 [==============================] - 0s 5ms/step - loss: 0.0353 - accuracy: 0.9924 - val_loss: 0.0854 - val_accuracy: 0.9529\n",
            "Epoch 67/150\n",
            "13/13 [==============================] - 0s 4ms/step - loss: 0.0351 - accuracy: 0.9924 - val_loss: 0.0840 - val_accuracy: 0.9529\n",
            "Epoch 68/150\n",
            "13/13 [==============================] - 0s 4ms/step - loss: 0.0338 - accuracy: 0.9924 - val_loss: 0.0887 - val_accuracy: 0.9529\n",
            "Epoch 69/150\n",
            "13/13 [==============================] - 0s 6ms/step - loss: 0.0333 - accuracy: 0.9924 - val_loss: 0.0897 - val_accuracy: 0.9529\n",
            "Epoch 70/150\n",
            "13/13 [==============================] - 0s 5ms/step - loss: 0.0324 - accuracy: 0.9924 - val_loss: 0.0889 - val_accuracy: 0.9529\n",
            "Epoch 71/150\n",
            "13/13 [==============================] - 0s 5ms/step - loss: 0.0316 - accuracy: 0.9924 - val_loss: 0.0890 - val_accuracy: 0.9529\n",
            "Epoch 72/150\n",
            "13/13 [==============================] - 0s 6ms/step - loss: 0.0307 - accuracy: 0.9924 - val_loss: 0.0896 - val_accuracy: 0.9529\n",
            "Epoch 73/150\n",
            "13/13 [==============================] - 0s 4ms/step - loss: 0.0300 - accuracy: 0.9924 - val_loss: 0.0902 - val_accuracy: 0.9529\n",
            "Epoch 74/150\n",
            "13/13 [==============================] - 0s 5ms/step - loss: 0.0295 - accuracy: 0.9924 - val_loss: 0.0917 - val_accuracy: 0.9529\n",
            "Epoch 75/150\n",
            "13/13 [==============================] - 0s 4ms/step - loss: 0.0286 - accuracy: 0.9924 - val_loss: 0.0913 - val_accuracy: 0.9529\n",
            "Epoch 76/150\n",
            "13/13 [==============================] - 0s 5ms/step - loss: 0.0281 - accuracy: 0.9924 - val_loss: 0.0917 - val_accuracy: 0.9529\n",
            "Epoch 77/150\n",
            "13/13 [==============================] - 0s 5ms/step - loss: 0.0275 - accuracy: 0.9924 - val_loss: 0.0929 - val_accuracy: 0.9529\n",
            "Epoch 78/150\n",
            "13/13 [==============================] - 0s 5ms/step - loss: 0.0271 - accuracy: 0.9924 - val_loss: 0.0977 - val_accuracy: 0.9529\n",
            "Epoch 79/150\n",
            "13/13 [==============================] - 0s 5ms/step - loss: 0.0266 - accuracy: 0.9924 - val_loss: 0.0966 - val_accuracy: 0.9529\n",
            "Epoch 80/150\n",
            "13/13 [==============================] - 0s 4ms/step - loss: 0.0260 - accuracy: 0.9924 - val_loss: 0.0956 - val_accuracy: 0.9529\n",
            "Epoch 81/150\n",
            "13/13 [==============================] - 0s 5ms/step - loss: 0.0256 - accuracy: 0.9924 - val_loss: 0.0953 - val_accuracy: 0.9529\n",
            "Epoch 82/150\n",
            "13/13 [==============================] - 0s 5ms/step - loss: 0.0252 - accuracy: 0.9924 - val_loss: 0.0981 - val_accuracy: 0.9529\n",
            "Epoch 83/150\n",
            "13/13 [==============================] - 0s 6ms/step - loss: 0.0246 - accuracy: 0.9924 - val_loss: 0.1000 - val_accuracy: 0.9529\n",
            "Epoch 84/150\n",
            "13/13 [==============================] - 0s 5ms/step - loss: 0.0242 - accuracy: 0.9924 - val_loss: 0.1002 - val_accuracy: 0.9529\n",
            "Epoch 85/150\n",
            "13/13 [==============================] - 0s 5ms/step - loss: 0.0239 - accuracy: 0.9924 - val_loss: 0.0999 - val_accuracy: 0.9529\n",
            "Epoch 86/150\n",
            "13/13 [==============================] - 0s 6ms/step - loss: 0.0235 - accuracy: 0.9924 - val_loss: 0.1012 - val_accuracy: 0.9529\n",
            "Epoch 87/150\n",
            "13/13 [==============================] - 0s 5ms/step - loss: 0.0231 - accuracy: 0.9924 - val_loss: 0.1019 - val_accuracy: 0.9529\n",
            "Epoch 88/150\n",
            "13/13 [==============================] - 0s 5ms/step - loss: 0.0230 - accuracy: 0.9924 - val_loss: 0.1009 - val_accuracy: 0.9529\n",
            "Epoch 89/150\n",
            "13/13 [==============================] - 0s 4ms/step - loss: 0.0225 - accuracy: 0.9924 - val_loss: 0.1030 - val_accuracy: 0.9529\n",
            "Epoch 90/150\n",
            "13/13 [==============================] - 0s 7ms/step - loss: 0.0220 - accuracy: 0.9949 - val_loss: 0.1039 - val_accuracy: 0.9529\n",
            "Epoch 91/150\n",
            "13/13 [==============================] - 0s 5ms/step - loss: 0.0220 - accuracy: 0.9924 - val_loss: 0.1020 - val_accuracy: 0.9529\n",
            "Epoch 92/150\n",
            "13/13 [==============================] - 0s 6ms/step - loss: 0.0215 - accuracy: 0.9949 - val_loss: 0.1046 - val_accuracy: 0.9529\n",
            "Epoch 93/150\n",
            "13/13 [==============================] - 0s 5ms/step - loss: 0.0212 - accuracy: 0.9949 - val_loss: 0.1034 - val_accuracy: 0.9529\n",
            "Epoch 94/150\n",
            "13/13 [==============================] - 0s 5ms/step - loss: 0.0209 - accuracy: 0.9949 - val_loss: 0.1037 - val_accuracy: 0.9529\n",
            "Epoch 95/150\n",
            "13/13 [==============================] - 0s 5ms/step - loss: 0.0205 - accuracy: 0.9949 - val_loss: 0.1081 - val_accuracy: 0.9588\n",
            "Epoch 96/150\n",
            "13/13 [==============================] - 0s 5ms/step - loss: 0.0206 - accuracy: 0.9949 - val_loss: 0.1064 - val_accuracy: 0.9588\n",
            "Epoch 97/150\n",
            "13/13 [==============================] - 0s 6ms/step - loss: 0.0200 - accuracy: 0.9949 - val_loss: 0.1030 - val_accuracy: 0.9588\n",
            "Epoch 98/150\n",
            "13/13 [==============================] - 0s 5ms/step - loss: 0.0196 - accuracy: 0.9949 - val_loss: 0.1041 - val_accuracy: 0.9588\n",
            "Epoch 99/150\n",
            "13/13 [==============================] - 0s 5ms/step - loss: 0.0193 - accuracy: 0.9949 - val_loss: 0.1035 - val_accuracy: 0.9588\n",
            "Epoch 100/150\n",
            "13/13 [==============================] - 0s 4ms/step - loss: 0.0190 - accuracy: 0.9949 - val_loss: 0.1048 - val_accuracy: 0.9588\n",
            "Epoch 101/150\n",
            "13/13 [==============================] - 0s 4ms/step - loss: 0.0186 - accuracy: 0.9949 - val_loss: 0.1056 - val_accuracy: 0.9588\n",
            "Epoch 102/150\n",
            "13/13 [==============================] - 0s 4ms/step - loss: 0.0183 - accuracy: 0.9949 - val_loss: 0.1078 - val_accuracy: 0.9588\n",
            "Epoch 103/150\n",
            "13/13 [==============================] - 0s 5ms/step - loss: 0.0180 - accuracy: 0.9949 - val_loss: 0.1066 - val_accuracy: 0.9588\n",
            "Epoch 104/150\n",
            "13/13 [==============================] - 0s 5ms/step - loss: 0.0178 - accuracy: 0.9949 - val_loss: 0.1053 - val_accuracy: 0.9588\n",
            "Epoch 105/150\n",
            "13/13 [==============================] - 0s 4ms/step - loss: 0.0176 - accuracy: 0.9949 - val_loss: 0.1084 - val_accuracy: 0.9588\n",
            "Epoch 106/150\n",
            "13/13 [==============================] - 0s 4ms/step - loss: 0.0172 - accuracy: 0.9949 - val_loss: 0.1085 - val_accuracy: 0.9588\n",
            "Epoch 107/150\n",
            "13/13 [==============================] - 0s 5ms/step - loss: 0.0169 - accuracy: 0.9949 - val_loss: 0.1098 - val_accuracy: 0.9588\n",
            "Epoch 108/150\n",
            "13/13 [==============================] - 0s 5ms/step - loss: 0.0167 - accuracy: 0.9949 - val_loss: 0.1104 - val_accuracy: 0.9588\n",
            "Epoch 109/150\n",
            "13/13 [==============================] - 0s 6ms/step - loss: 0.0171 - accuracy: 0.9949 - val_loss: 0.1174 - val_accuracy: 0.9588\n",
            "Epoch 110/150\n",
            "13/13 [==============================] - 0s 5ms/step - loss: 0.0164 - accuracy: 0.9949 - val_loss: 0.1155 - val_accuracy: 0.9588\n",
            "Epoch 111/150\n",
            "13/13 [==============================] - 0s 5ms/step - loss: 0.0160 - accuracy: 0.9949 - val_loss: 0.1124 - val_accuracy: 0.9588\n",
            "Epoch 112/150\n",
            "13/13 [==============================] - 0s 5ms/step - loss: 0.0156 - accuracy: 0.9949 - val_loss: 0.1126 - val_accuracy: 0.9588\n",
            "Epoch 113/150\n",
            "13/13 [==============================] - 0s 6ms/step - loss: 0.0154 - accuracy: 0.9975 - val_loss: 0.1135 - val_accuracy: 0.9588\n",
            "Epoch 114/150\n",
            "13/13 [==============================] - 0s 5ms/step - loss: 0.0151 - accuracy: 0.9949 - val_loss: 0.1105 - val_accuracy: 0.9588\n",
            "Epoch 115/150\n",
            "13/13 [==============================] - 0s 5ms/step - loss: 0.0150 - accuracy: 0.9949 - val_loss: 0.1136 - val_accuracy: 0.9588\n",
            "Epoch 116/150\n",
            "13/13 [==============================] - 0s 5ms/step - loss: 0.0148 - accuracy: 0.9949 - val_loss: 0.1142 - val_accuracy: 0.9588\n",
            "Epoch 117/150\n",
            "13/13 [==============================] - 0s 6ms/step - loss: 0.0145 - accuracy: 0.9949 - val_loss: 0.1142 - val_accuracy: 0.9588\n",
            "Epoch 118/150\n",
            "13/13 [==============================] - 0s 6ms/step - loss: 0.0145 - accuracy: 0.9949 - val_loss: 0.1128 - val_accuracy: 0.9588\n",
            "Epoch 119/150\n",
            "13/13 [==============================] - 0s 5ms/step - loss: 0.0141 - accuracy: 0.9949 - val_loss: 0.1160 - val_accuracy: 0.9588\n",
            "Epoch 120/150\n",
            "13/13 [==============================] - 0s 6ms/step - loss: 0.0137 - accuracy: 0.9975 - val_loss: 0.1153 - val_accuracy: 0.9588\n",
            "Epoch 121/150\n",
            "13/13 [==============================] - 0s 6ms/step - loss: 0.0137 - accuracy: 0.9949 - val_loss: 0.1161 - val_accuracy: 0.9588\n",
            "Epoch 122/150\n",
            "13/13 [==============================] - 0s 6ms/step - loss: 0.0135 - accuracy: 0.9975 - val_loss: 0.1196 - val_accuracy: 0.9588\n",
            "Epoch 123/150\n",
            "13/13 [==============================] - 0s 4ms/step - loss: 0.0132 - accuracy: 0.9975 - val_loss: 0.1185 - val_accuracy: 0.9588\n",
            "Epoch 124/150\n",
            "13/13 [==============================] - 0s 4ms/step - loss: 0.0129 - accuracy: 0.9975 - val_loss: 0.1181 - val_accuracy: 0.9588\n",
            "Epoch 125/150\n",
            "13/13 [==============================] - 0s 4ms/step - loss: 0.0127 - accuracy: 0.9975 - val_loss: 0.1183 - val_accuracy: 0.9588\n",
            "Epoch 126/150\n",
            "13/13 [==============================] - 0s 5ms/step - loss: 0.0124 - accuracy: 0.9975 - val_loss: 0.1201 - val_accuracy: 0.9588\n",
            "Epoch 127/150\n",
            "13/13 [==============================] - 0s 5ms/step - loss: 0.0123 - accuracy: 0.9975 - val_loss: 0.1205 - val_accuracy: 0.9588\n",
            "Epoch 128/150\n",
            "13/13 [==============================] - 0s 6ms/step - loss: 0.0123 - accuracy: 0.9975 - val_loss: 0.1227 - val_accuracy: 0.9588\n",
            "Epoch 129/150\n",
            "13/13 [==============================] - 0s 4ms/step - loss: 0.0120 - accuracy: 0.9975 - val_loss: 0.1209 - val_accuracy: 0.9588\n",
            "Epoch 130/150\n",
            "13/13 [==============================] - 0s 5ms/step - loss: 0.0117 - accuracy: 0.9975 - val_loss: 0.1198 - val_accuracy: 0.9529\n",
            "Epoch 131/150\n",
            "13/13 [==============================] - 0s 4ms/step - loss: 0.0117 - accuracy: 0.9975 - val_loss: 0.1199 - val_accuracy: 0.9529\n",
            "Epoch 132/150\n",
            "13/13 [==============================] - 0s 6ms/step - loss: 0.0113 - accuracy: 0.9975 - val_loss: 0.1226 - val_accuracy: 0.9529\n",
            "Epoch 133/150\n",
            "13/13 [==============================] - 0s 4ms/step - loss: 0.0112 - accuracy: 0.9975 - val_loss: 0.1218 - val_accuracy: 0.9529\n",
            "Epoch 134/150\n",
            "13/13 [==============================] - 0s 4ms/step - loss: 0.0110 - accuracy: 0.9975 - val_loss: 0.1236 - val_accuracy: 0.9529\n",
            "Epoch 135/150\n",
            "13/13 [==============================] - 0s 4ms/step - loss: 0.0108 - accuracy: 0.9975 - val_loss: 0.1242 - val_accuracy: 0.9529\n",
            "Epoch 136/150\n",
            "13/13 [==============================] - 0s 4ms/step - loss: 0.0108 - accuracy: 0.9975 - val_loss: 0.1244 - val_accuracy: 0.9529\n",
            "Epoch 137/150\n",
            "13/13 [==============================] - 0s 4ms/step - loss: 0.0107 - accuracy: 0.9975 - val_loss: 0.1253 - val_accuracy: 0.9529\n",
            "Epoch 138/150\n",
            "13/13 [==============================] - 0s 4ms/step - loss: 0.0104 - accuracy: 0.9975 - val_loss: 0.1246 - val_accuracy: 0.9529\n",
            "Epoch 139/150\n",
            "13/13 [==============================] - 0s 5ms/step - loss: 0.0103 - accuracy: 0.9975 - val_loss: 0.1241 - val_accuracy: 0.9529\n",
            "Epoch 140/150\n",
            "13/13 [==============================] - 0s 4ms/step - loss: 0.0101 - accuracy: 0.9975 - val_loss: 0.1253 - val_accuracy: 0.9529\n",
            "Epoch 141/150\n",
            "13/13 [==============================] - 0s 6ms/step - loss: 0.0104 - accuracy: 0.9975 - val_loss: 0.1260 - val_accuracy: 0.9529\n",
            "Epoch 142/150\n",
            "13/13 [==============================] - 0s 5ms/step - loss: 0.0108 - accuracy: 0.9975 - val_loss: 0.1395 - val_accuracy: 0.9529\n",
            "Epoch 143/150\n",
            "13/13 [==============================] - 0s 5ms/step - loss: 0.0105 - accuracy: 0.9975 - val_loss: 0.1375 - val_accuracy: 0.9529\n",
            "Epoch 144/150\n",
            "13/13 [==============================] - 0s 5ms/step - loss: 0.0102 - accuracy: 0.9975 - val_loss: 0.1313 - val_accuracy: 0.9529\n",
            "Epoch 145/150\n",
            "13/13 [==============================] - 0s 7ms/step - loss: 0.0094 - accuracy: 0.9975 - val_loss: 0.1310 - val_accuracy: 0.9529\n",
            "Epoch 146/150\n",
            "13/13 [==============================] - 0s 5ms/step - loss: 0.0092 - accuracy: 0.9975 - val_loss: 0.1318 - val_accuracy: 0.9529\n",
            "Epoch 147/150\n",
            "13/13 [==============================] - 0s 5ms/step - loss: 0.0091 - accuracy: 0.9975 - val_loss: 0.1322 - val_accuracy: 0.9529\n",
            "Epoch 148/150\n",
            "13/13 [==============================] - 0s 5ms/step - loss: 0.0090 - accuracy: 0.9975 - val_loss: 0.1326 - val_accuracy: 0.9529\n",
            "Epoch 149/150\n",
            "13/13 [==============================] - 0s 5ms/step - loss: 0.0090 - accuracy: 0.9975 - val_loss: 0.1328 - val_accuracy: 0.9529\n",
            "Epoch 150/150\n",
            "13/13 [==============================] - 0s 4ms/step - loss: 0.0089 - accuracy: 0.9975 - val_loss: 0.1352 - val_accuracy: 0.9529\n"
          ]
        }
      ]
    },
    {
      "cell_type": "code",
      "source": [],
      "metadata": {
        "id": "NzQU846rEMaF"
      },
      "execution_count": 86,
      "outputs": []
    },
    {
      "cell_type": "code",
      "source": [],
      "metadata": {
        "id": "1I4o9jAlENP1"
      },
      "execution_count": 86,
      "outputs": []
    },
    {
      "cell_type": "markdown",
      "source": [
        "## Model Validation"
      ],
      "metadata": {
        "id": "du0JaXQfykWm"
      }
    },
    {
      "cell_type": "code",
      "source": [
        "loss, acc = model.evaluate(x_test, y_test, verbose=1)\n",
        "\n",
        "print(f\"The loss is {loss}, The accuracy is {acc}\")"
      ],
      "metadata": {
        "colab": {
          "base_uri": "https://localhost:8080/"
        },
        "id": "48daWfQCCiPg",
        "outputId": "adfa9983-4ddc-43e1-d07b-5c3936d6e76b"
      },
      "execution_count": 87,
      "outputs": [
        {
          "output_type": "stream",
          "name": "stdout",
          "text": [
            "6/6 [==============================] - 0s 2ms/step - loss: 0.1352 - accuracy: 0.9529\n",
            "The loss is 0.1352183222770691, The accuracy is 0.9529411792755127\n"
          ]
        }
      ]
    },
    {
      "cell_type": "markdown",
      "source": [
        "## Plot accuracy and Loss"
      ],
      "metadata": {
        "id": "Fh0zbHpNEgDS"
      }
    },
    {
      "cell_type": "code",
      "source": [
        "import matplotlib.pyplot as plt\n",
        "plt.title('Loss')\n",
        "plt.plot(history.history['loss'], label='train')\n",
        "plt.plot(history.history['val_loss'], label='test')\n",
        "plt.legend()\n",
        "plt.show()"
      ],
      "metadata": {
        "colab": {
          "base_uri": "https://localhost:8080/",
          "height": 281
        },
        "id": "z2VlKplDEncc",
        "outputId": "4e6f0a0b-95a0-4fd0-eaec-6b28a8ab88ad"
      },
      "execution_count": 88,
      "outputs": [
        {
          "output_type": "display_data",
          "data": {
            "text/plain": [
              "<Figure size 432x288 with 1 Axes>"
            ],
            "image/png": "[encoded data removed]"
          },
          "metadata": {
            "needs_background": "light"
          }
        }
      ]
    },
    {
      "cell_type": "code",
      "source": [
        "plt.title('Accuracy')\n",
        "plt.plot(history.history['accuracy'], label='train')\n",
        "plt.plot(history.history['val_accuracy'], label='test')\n",
        "plt.legend()\n",
        "plt.show()"
      ],
      "metadata": {
        "colab": {
          "base_uri": "https://localhost:8080/",
          "height": 281
        },
        "id": "J_9onEH5Epbn",
        "outputId": "e7d1e3ee-ff5b-4919-9aa5-1b781550408d"
      },
      "execution_count": 89,
      "outputs": [
        {
          "output_type": "display_data",
          "data": {
            "text/plain": [
              "<Figure size 432x288 with 1 Axes>"
            ],
            "image/png": "[encoded data removed]"
          },
          "metadata": {
            "needs_background": "light"
          }
        }
      ]
    },
    {
      "cell_type": "markdown",
      "source": [
        "## Confusion matrix and Classification report"
      ],
      "metadata": {
        "id": "h48MiJyr1Il6"
      }
    },
    {
      "cell_type": "code",
      "source": [
        "y_pred = model.predict(x_test)\n",
        "y_pred = (y_pred>0.5)"
      ],
      "metadata": {
        "colab": {
          "base_uri": "https://localhost:8080/"
        },
        "id": "PuJaWCPkEsk9",
        "outputId": "d519b221-23b3-4070-904f-d813401ec751"
      },
      "execution_count": 90,
      "outputs": [
        {
          "output_type": "stream",
          "name": "stdout",
          "text": [
            "6/6 [==============================] - 0s 2ms/step\n"
          ]
        }
      ]
    },
    {
      "cell_type": "code",
      "source": [
        "from sklearn.metrics import confusion_matrix, classification_report\n",
        "\n",
        "print(confusion_matrix(y_test, y_pred))"
      ],
      "metadata": {
        "colab": {
          "base_uri": "https://localhost:8080/"
        },
        "id": "OVC9b6XyEv5j",
        "outputId": "b06e237d-31f7-486f-ea95-9eedc8ac4882"
      },
      "execution_count": 91,
      "outputs": [
        {
          "output_type": "stream",
          "name": "stdout",
          "text": [
            "[[100   3]\n",
            " [  5  62]]\n"
          ]
        }
      ]
    },
    {
      "cell_type": "code",
      "source": [
        "print(classification_report(y_test, y_pred))"
      ],
      "metadata": {
        "colab": {
          "base_uri": "https://localhost:8080/"
        },
        "id": "NoGpNsTlExvE",
        "outputId": "22abefdb-e635-482e-de88-3e356685df90"
      },
      "execution_count": 92,
      "outputs": [
        {
          "output_type": "stream",
          "name": "stdout",
          "text": [
            "              precision    recall  f1-score   support\n",
            "\n",
            "           0       0.95      0.97      0.96       103\n",
            "           1       0.95      0.93      0.94        67\n",
            "\n",
            "    accuracy                           0.95       170\n",
            "   macro avg       0.95      0.95      0.95       170\n",
            "weighted avg       0.95      0.95      0.95       170\n",
            "\n"
          ]
        }
      ]
    },
    {
      "cell_type": "markdown",
      "source": [
        "## Validate"
      ],
      "metadata": {
        "id": "oPAm7oQ-E6MD"
      }
    },
    {
      "cell_type": "code",
      "source": [
        "validate = pd.read_csv('/content/drive/MyDrive/Colab Notebooks/Chapter10ANN/Validate.csv')\n",
        "valid_list = validate.values.tolist()\n",
        "print(valid_list)\n",
        "validate.head()"
      ],
      "metadata": {
        "colab": {
          "base_uri": "https://localhost:8080/",
          "height": 331
        },
        "id": "hdWNh0jmGRHh",
        "outputId": "d8a6266e-81cc-4d72-a0fc-7df225d73e83"
      },
      "execution_count": 98,
      "outputs": [
        {
          "output_type": "stream",
          "name": "stdout",
          "text": [
            "[['M', 14.68, 20.13, 94.74, 684.5, 0.09867, 0.072, 0.07395, 0.05259, 0.1586, 0.05922, 0.4727, 1.24, 3.195, 45.4, 0.005718, 0.01162, 0.01998, 0.01109, 0.0141, 0.002085, 19.07, 30.88, 123.4, 1138.0, 0.1464, 0.1871, 0.2914, 0.1609, 0.3029, 0.08216], ['M', 16.13, 20.68, 108.1, 798.8, 0.117, 0.2022, 0.1722, 0.1028, 0.2164, 0.07356, 0.5692, 1.073, 3.854, 54.18, 0.007026, 0.02501, 0.03188, 0.01297, 0.01689, 0.004142, 20.96, 31.48, 136.8, 1315.0, 0.1789, 0.4233, 0.4784, 0.2073, 0.3706, 0.1142], ['M', 19.81, 22.15, 130.0, 1260.0, 0.09831, 0.1027, 0.1479, 0.09498, 0.1582, 0.05395, 0.7582, 1.017, 5.865, 112.4, 0.006494, 0.01893, 0.03391, 0.01521, 0.01356, 0.001997, 27.32, 30.88, 186.8, 2398.0, 0.1512, 0.315, 0.5372, 0.2388, 0.2768, 0.07615], ['B', 13.54, 14.36, 87.46, 566.3, 0.09779, 0.08129, 0.06664, 0.04781, 0.1885, 0.05766, 0.2699, 0.7886, 2.058, 23.56, 0.008462, 0.0146, 0.02387, 0.01315, 0.0198, 0.0023, 15.11, 19.26, 99.7, 711.2, 0.144, 0.1773, 0.239, 0.1288, 0.2977, 0.07259], ['B', 13.08, 15.71, 85.63, 520.0, 0.1075, 0.127, 0.04568, 0.0311, 0.1967, 0.06811, 0.1852, 0.7477, 1.383, 14.67, 0.004097, 0.01898, 0.01698, 0.00649, 0.01678, 0.002425, 14.5, 20.49, 96.09, 630.5, 0.1312, 0.2776, 0.189, 0.07283, 0.3184, 0.08183]]\n"
          ]
        },
        {
          "output_type": "execute_result",
          "data": {
            "text/plain": [
              "  diagnosis  radius_mean  texture_mean  perimeter_mean  area_mean  \\\n",
              "0         M        14.68         20.13           94.74      684.5   \n",
              "1         M        16.13         20.68          108.10      798.8   \n",
              "2         M        19.81         22.15          130.00     1260.0   \n",
              "3         B        13.54         14.36           87.46      566.3   \n",
              "4         B        13.08         15.71           85.63      520.0   \n",
              "\n",
              "   smoothness_mean  compactness_mean  concavity_mean  concave points_mean  \\\n",
              "0          0.09867           0.07200         0.07395              0.05259   \n",
              "1          0.11700           0.20220         0.17220              0.10280   \n",
              "2          0.09831           0.10270         0.14790              0.09498   \n",
              "3          0.09779           0.08129         0.06664              0.04781   \n",
              "4          0.10750           0.12700         0.04568              0.03110   \n",
              "\n",
              "   symmetry_mean  ...  radius_worst  texture_worst  perimeter_worst  \\\n",
              "0         0.1586  ...         19.07          30.88           123.40   \n",
              "1         0.2164  ...         20.96          31.48           136.80   \n",
              "2         0.1582  ...         27.32          30.88           186.80   \n",
              "3         0.1885  ...         15.11          19.26            99.70   \n",
              "4         0.1967  ...         14.50          20.49            96.09   \n",
              "\n",
              "   area_worst  smoothness_worst  compactness_worst  concavity_worst  \\\n",
              "0      1138.0            0.1464             0.1871           0.2914   \n",
              "1      1315.0            0.1789             0.4233           0.4784   \n",
              "2      2398.0            0.1512             0.3150           0.5372   \n",
              "3       711.2            0.1440             0.1773           0.2390   \n",
              "4       630.5            0.1312             0.2776           0.1890   \n",
              "\n",
              "   concave points_worst  symmetry_worst  fractal_dimension_worst  \n",
              "0               0.16090          0.3029                  0.08216  \n",
              "1               0.20730          0.3706                  0.11420  \n",
              "2               0.23880          0.2768                  0.07615  \n",
              "3               0.12880          0.2977                  0.07259  \n",
              "4               0.07283          0.3184                  0.08183  \n",
              "\n",
              "[5 rows x 31 columns]"
            ],
            "text/html": [
              "\n",
              "  <div id=\"df-a6283011-450c-4b64-a769-f92f771026f0\">\n",
              "    <div class=\"colab-df-container\">\n",
              "      <div>\n",
              "<style scoped>\n",
              "    .dataframe tbody tr th:only-of-type {\n",
              "        vertical-align: middle;\n",
              "    }\n",
              "\n",
              "    .dataframe tbody tr th {\n",
              "        vertical-align: top;\n",
              "    }\n",
              "\n",
              "    .dataframe thead th {\n",
              "        text-align: right;\n",
              "    }\n",
              "</style>\n",
              "<table border=\"1\" class=\"dataframe\">\n",
              "  <thead>\n",
              "    <tr style=\"text-align: right;\">\n",
              "      <th></th>\n",
              "      <th>diagnosis</th>\n",
              "      <th>radius_mean</th>\n",
              "      <th>texture_mean</th>\n",
              "      <th>perimeter_mean</th>\n",
              "      <th>area_mean</th>\n",
              "      <th>smoothness_mean</th>\n",
              "      <th>compactness_mean</th>\n",
              "      <th>concavity_mean</th>\n",
              "      <th>concave points_mean</th>\n",
              "      <th>symmetry_mean</th>\n",
              "      <th>...</th>\n",
              "      <th>radius_worst</th>\n",
              "      <th>texture_worst</th>\n",
              "      <th>perimeter_worst</th>\n",
              "      <th>area_worst</th>\n",
              "      <th>smoothness_worst</th>\n",
              "      <th>compactness_worst</th>\n",
              "      <th>concavity_worst</th>\n",
              "      <th>concave points_worst</th>\n",
              "      <th>symmetry_worst</th>\n",
              "      <th>fractal_dimension_worst</th>\n",
              "    </tr>\n",
              "  </thead>\n",
              "  <tbody>\n",
              "    <tr>\n",
              "      <th>0</th>\n",
              "      <td>M</td>\n",
              "      <td>14.68</td>\n",
              "      <td>20.13</td>\n",
              "      <td>94.74</td>\n",
              "      <td>684.5</td>\n",
              "      <td>0.09867</td>\n",
              "      <td>0.07200</td>\n",
              "      <td>0.07395</td>\n",
              "      <td>0.05259</td>\n",
              "      <td>0.1586</td>\n",
              "      <td>...</td>\n",
              "      <td>19.07</td>\n",
              "      <td>30.88</td>\n",
              "      <td>123.40</td>\n",
              "      <td>1138.0</td>\n",
              "      <td>0.1464</td>\n",
              "      <td>0.1871</td>\n",
              "      <td>0.2914</td>\n",
              "      <td>0.16090</td>\n",
              "      <td>0.3029</td>\n",
              "      <td>0.08216</td>\n",
              "    </tr>\n",
              "    <tr>\n",
              "      <th>1</th>\n",
              "      <td>M</td>\n",
              "      <td>16.13</td>\n",
              "      <td>20.68</td>\n",
              "      <td>108.10</td>\n",
              "      <td>798.8</td>\n",
              "      <td>0.11700</td>\n",
              "      <td>0.20220</td>\n",
              "      <td>0.17220</td>\n",
              "      <td>0.10280</td>\n",
              "      <td>0.2164</td>\n",
              "      <td>...</td>\n",
              "      <td>20.96</td>\n",
              "      <td>31.48</td>\n",
              "      <td>136.80</td>\n",
              "      <td>1315.0</td>\n",
              "      <td>0.1789</td>\n",
              "      <td>0.4233</td>\n",
              "      <td>0.4784</td>\n",
              "      <td>0.20730</td>\n",
              "      <td>0.3706</td>\n",
              "      <td>0.11420</td>\n",
              "    </tr>\n",
              "    <tr>\n",
              "      <th>2</th>\n",
              "      <td>M</td>\n",
              "      <td>19.81</td>\n",
              "      <td>22.15</td>\n",
              "      <td>130.00</td>\n",
              "      <td>1260.0</td>\n",
              "      <td>0.09831</td>\n",
              "      <td>0.10270</td>\n",
              "      <td>0.14790</td>\n",
              "      <td>0.09498</td>\n",
              "      <td>0.1582</td>\n",
              "      <td>...</td>\n",
              "      <td>27.32</td>\n",
              "      <td>30.88</td>\n",
              "      <td>186.80</td>\n",
              "      <td>2398.0</td>\n",
              "      <td>0.1512</td>\n",
              "      <td>0.3150</td>\n",
              "      <td>0.5372</td>\n",
              "      <td>0.23880</td>\n",
              "      <td>0.2768</td>\n",
              "      <td>0.07615</td>\n",
              "    </tr>\n",
              "    <tr>\n",
              "      <th>3</th>\n",
              "      <td>B</td>\n",
              "      <td>13.54</td>\n",
              "      <td>14.36</td>\n",
              "      <td>87.46</td>\n",
              "      <td>566.3</td>\n",
              "      <td>0.09779</td>\n",
              "      <td>0.08129</td>\n",
              "      <td>0.06664</td>\n",
              "      <td>0.04781</td>\n",
              "      <td>0.1885</td>\n",
              "      <td>...</td>\n",
              "      <td>15.11</td>\n",
              "      <td>19.26</td>\n",
              "      <td>99.70</td>\n",
              "      <td>711.2</td>\n",
              "      <td>0.1440</td>\n",
              "      <td>0.1773</td>\n",
              "      <td>0.2390</td>\n",
              "      <td>0.12880</td>\n",
              "      <td>0.2977</td>\n",
              "      <td>0.07259</td>\n",
              "    </tr>\n",
              "    <tr>\n",
              "      <th>4</th>\n",
              "      <td>B</td>\n",
              "      <td>13.08</td>\n",
              "      <td>15.71</td>\n",
              "      <td>85.63</td>\n",
              "      <td>520.0</td>\n",
              "      <td>0.10750</td>\n",
              "      <td>0.12700</td>\n",
              "      <td>0.04568</td>\n",
              "      <td>0.03110</td>\n",
              "      <td>0.1967</td>\n",
              "      <td>...</td>\n",
              "      <td>14.50</td>\n",
              "      <td>20.49</td>\n",
              "      <td>96.09</td>\n",
              "      <td>630.5</td>\n",
              "      <td>0.1312</td>\n",
              "      <td>0.2776</td>\n",
              "      <td>0.1890</td>\n",
              "      <td>0.07283</td>\n",
              "      <td>0.3184</td>\n",
              "      <td>0.08183</td>\n",
              "    </tr>\n",
              "  </tbody>\n",
              "</table>\n",
              "<p>5 rows × 31 columns</p>\n",
              "</div>\n",
              "      <button class=\"colab-df-convert\" onclick=\"convertToInteractive('df-a6283011-450c-4b64-a769-f92f771026f0')\"\n",
              "              title=\"Convert this dataframe to an interactive table.\"\n",
              "              style=\"display:none;\">\n",
              "        \n",
              "  <svg xmlns=\"http://www.w3.org/2000/svg\" height=\"24px\"viewBox=\"0 0 24 24\"\n",
              "       width=\"24px\">\n",
              "    <path d=\"M0 0h24v24H0V0z\" fill=\"none\"/>\n",
              "    <path d=\"M18.56 5.44l.94 2.06.94-2.06 2.06-.94-2.06-.94-.94-2.06-.94 2.06-2.06.94zm-11 1L8.5 8.5l.94-2.06 2.06-.94-2.06-.94L8.5 2.5l-.94 2.06-2.06.94zm10 10l.94 2.06.94-2.06 2.06-.94-2.06-.94-.94-2.06-.94 2.06-2.06.94z\"/><path d=\"M17.41 7.96l-1.37-1.37c-.4-.4-.92-.59-1.43-.59-.52 0-1.04.2-1.43.59L10.3 9.45l-7.72 7.72c-.78.78-.78 2.05 0 2.83L4 21.41c.39.39.9.59 1.41.59.51 0 1.02-.2 1.41-.59l7.78-7.78 2.81-2.81c.8-.78.8-2.07 0-2.86zM5.41 20L4 18.59l7.72-7.72 1.47 1.35L5.41 20z\"/>\n",
              "  </svg>\n",
              "      </button>\n",
              "      \n",
              "  <style>\n",
              "    .colab-df-container {\n",
              "      display:flex;\n",
              "      flex-wrap:wrap;\n",
              "      gap: 12px;\n",
              "    }\n",
              "\n",
              "    .colab-df-convert {\n",
              "      background-color: #E8F0FE;\n",
              "      border: none;\n",
              "      border-radius: 50%;\n",
              "      cursor: pointer;\n",
              "      display: none;\n",
              "      fill: #1967D2;\n",
              "      height: 32px;\n",
              "      padding: 0 0 0 0;\n",
              "      width: 32px;\n",
              "    }\n",
              "\n",
              "    .colab-df-convert:hover {\n",
              "      background-color: #E2EBFA;\n",
              "      box-shadow: 0px 1px 2px rgba(60, 64, 67, 0.3), 0px 1px 3px 1px rgba(60, 64, 67, 0.15);\n",
              "      fill: #174EA6;\n",
              "    }\n",
              "\n",
              "    [theme=dark] .colab-df-convert {\n",
              "      background-color: #3B4455;\n",
              "      fill: #D2E3FC;\n",
              "    }\n",
              "\n",
              "    [theme=dark] .colab-df-convert:hover {\n",
              "      background-color: #434B5C;\n",
              "      box-shadow: 0px 1px 3px 1px rgba(0, 0, 0, 0.15);\n",
              "      filter: drop-shadow(0px 1px 2px rgba(0, 0, 0, 0.3));\n",
              "      fill: #FFFFFF;\n",
              "    }\n",
              "  </style>\n",
              "\n",
              "      <script>\n",
              "        const buttonEl =\n",
              "          document.querySelector('#df-a6283011-450c-4b64-a769-f92f771026f0 button.colab-df-convert');\n",
              "        buttonEl.style.display =\n",
              "          google.colab.kernel.accessAllowed ? 'block' : 'none';\n",
              "\n",
              "        async function convertToInteractive(key) {\n",
              "          const element = document.querySelector('#df-a6283011-450c-4b64-a769-f92f771026f0');\n",
              "          const dataTable =\n",
              "            await google.colab.kernel.invokeFunction('convertToInteractive',\n",
              "                                                     [key], {});\n",
              "          if (!dataTable) return;\n",
              "\n",
              "          const docLinkHtml = 'Like what you see? Visit the ' +\n",
              "            '<a target=\"_blank\" href=https://colab.research.google.com/notebooks/data_table.ipynb>data table notebook</a>'\n",
              "            + ' to learn more about interactive tables.';\n",
              "          element.innerHTML = '';\n",
              "          dataTable['output_type'] = 'display_data';\n",
              "          await google.colab.output.renderOutput(dataTable, element);\n",
              "          const docLink = document.createElement('div');\n",
              "          docLink.innerHTML = docLinkHtml;\n",
              "          element.appendChild(docLink);\n",
              "        }\n",
              "      </script>\n",
              "    </div>\n",
              "  </div>\n",
              "  "
            ]
          },
          "metadata": {},
          "execution_count": 98
        }
      ]
    },
    {
      "cell_type": "code",
      "source": [
        "for i in range (0,5):\n",
        "  data = valid_list[i][1:]\n",
        "  print(model.predict(sc_x.transform([data])) > 0.5)"
      ],
      "metadata": {
        "colab": {
          "base_uri": "https://localhost:8080/"
        },
        "id": "r61Tj7-HE7zg",
        "outputId": "76f06dc4-fba5-4d66-d31a-f987bf94ae3e"
      },
      "execution_count": 97,
      "outputs": [
        {
          "output_type": "stream",
          "name": "stderr",
          "text": [
            "/usr/local/lib/python3.7/dist-packages/sklearn/base.py:451: UserWarning: X does not have valid feature names, but StandardScaler was fitted with feature names\n",
            "  \"X does not have valid feature names, but\"\n"
          ]
        },
        {
          "output_type": "stream",
          "name": "stdout",
          "text": [
            "1/1 [==============================] - 0s 87ms/step\n",
            "[[ True]]\n",
            "1/1 [==============================] - 0s 26ms/step\n",
            "[[ True]]\n",
            "1/1 [==============================] - 0s 29ms/step\n",
            "[[ True]]\n"
          ]
        },
        {
          "output_type": "stream",
          "name": "stderr",
          "text": [
            "/usr/local/lib/python3.7/dist-packages/sklearn/base.py:451: UserWarning: X does not have valid feature names, but StandardScaler was fitted with feature names\n",
            "  \"X does not have valid feature names, but\"\n",
            "/usr/local/lib/python3.7/dist-packages/sklearn/base.py:451: UserWarning: X does not have valid feature names, but StandardScaler was fitted with feature names\n",
            "  \"X does not have valid feature names, but\"\n",
            "/usr/local/lib/python3.7/dist-packages/sklearn/base.py:451: UserWarning: X does not have valid feature names, but StandardScaler was fitted with feature names\n",
            "  \"X does not have valid feature names, but\"\n"
          ]
        },
        {
          "output_type": "stream",
          "name": "stdout",
          "text": [
            "1/1 [==============================] - 0s 38ms/step\n",
            "[[False]]\n",
            "1/1 [==============================] - 0s 39ms/step\n",
            "[[False]]\n"
          ]
        },
        {
          "output_type": "stream",
          "name": "stderr",
          "text": [
            "/usr/local/lib/python3.7/dist-packages/sklearn/base.py:451: UserWarning: X does not have valid feature names, but StandardScaler was fitted with feature names\n",
            "  \"X does not have valid feature names, but\"\n"
          ]
        }
      ]
    }
  ]
}